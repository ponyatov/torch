{
 "cells": [
  {
   "cell_type": "markdown",
   "metadata": {},
   "source": [
    "https://course.fast.ai/videos/?lesson=1"
   ]
  },
  {
   "cell_type": "markdown",
   "metadata": {},
   "source": [
    "Для установки и **обновления** среды запустите эту клетку:"
   ]
  },
  {
   "cell_type": "code",
   "execution_count": 7,
   "metadata": {},
   "outputs": [],
   "source": [
    "! xterm -e make install"
   ]
  },
  {
   "cell_type": "code",
   "execution_count": 11,
   "metadata": {},
   "outputs": [
    {
     "name": "stdout",
     "output_type": "stream",
     "text": [
      "итого 88\r\n",
      "drwxr-xr-x  10 dpon dpon  4096 окт  8 14:23 .\r\n",
      "drwxr-xr-x 278 dpon dpon 12288 окт  8 14:12 ..\r\n",
      "drwxr-xr-x   2 dpon dpon  4096 окт  8 14:12 bin\r\n",
      "drwxr-xr-x   3 dpon dpon  4096 окт  8 11:31 etc\r\n",
      "drwxr-xr-x   8 dpon dpon  4096 окт  8 14:22 .git\r\n",
      "-rw-r--r--   1 dpon dpon   102 окт  8 13:40 .gitignore\r\n",
      "-rw-r--r--   1 dpon dpon   555 окт  8 12:55 hello.ipynb\r\n",
      "drwxr-xr-x   2 dpon dpon  4096 окт  8 10:38 include\r\n",
      "drwxr-xr-x   2 dpon dpon  4096 окт  8 13:37 .ipynb_checkpoints\r\n",
      "-rw-r--r--   1 dpon dpon  3066 окт  8 14:23 Lesson1.ipynb\r\n",
      "drwxr-xr-x   3 dpon dpon  4096 окт  8 10:38 lib\r\n",
      "lrwxrwxrwx   1 dpon dpon     3 окт  8 10:38 lib64 -> lib\r\n",
      "-rw-r--r--   1 dpon dpon  1636 окт  8 11:28 LICENSE.txt\r\n",
      "-rw-r--r--   1 dpon dpon   174 окт  8 10:40 Makefile\r\n",
      "-rw-r--r--   1 dpon dpon    84 окт  8 10:38 pyvenv.cfg\r\n",
      "-rw-r--r--   1 dpon dpon   367 окт  8 10:49 README.md\r\n",
      "-rw-r--r--   1 dpon dpon  1492 окт  8 12:06 requirements.txt\r\n",
      "-rw-r--r--   1 dpon dpon  7291 окт  8 11:28 setup.cfg\r\n",
      "drwxr-xr-x   5 dpon dpon  4096 окт  8 11:31 share\r\n",
      "drwxr-xr-x   2 dpon dpon  4096 окт  8 10:52 .vscode\r\n"
     ]
    }
   ],
   "source": [
    "! rm -f Untitled*.ipynb ; ls -la"
   ]
  },
  {
   "cell_type": "markdown",
   "metadata": {},
   "source": [
    "Подключаем модуль библиотеки FAST.ai"
   ]
  },
  {
   "cell_type": "code",
   "execution_count": 12,
   "metadata": {},
   "outputs": [],
   "source": [
    "import fastai"
   ]
  }
 ],
 "metadata": {
  "kernelspec": {
   "display_name": "Python 3",
   "language": "python",
   "name": "python3"
  },
  "language_info": {
   "codemirror_mode": {
    "name": "ipython",
    "version": 3
   },
   "file_extension": ".py",
   "mimetype": "text/x-python",
   "name": "python",
   "nbconvert_exporter": "python",
   "pygments_lexer": "ipython3",
   "version": "3.5.3"
  }
 },
 "nbformat": 4,
 "nbformat_minor": 2
}
